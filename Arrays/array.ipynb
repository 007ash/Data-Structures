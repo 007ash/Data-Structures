{
 "cells": [
  {
   "cell_type": "markdown",
   "id": "3c78e26a",
   "metadata": {},
   "source": [
    "Squaring of an array:"
   ]
  },
  {
   "cell_type": "code",
   "execution_count": null,
   "id": "c08bd88b",
   "metadata": {},
   "outputs": [
    {
     "name": "stdout",
     "output_type": "stream",
     "text": [
      "Original array: [2, 4, 6, 8, 11]\n",
      "Squared array: [4, 16, 36, 64, 121]\n"
     ]
    }
   ],
   "source": [
    "def square(arr):\n",
    "    \n",
    "    ans = []\n",
    "    for i in arr:\n",
    "        ans.append(i*i)\n",
    "    return ans\n",
    "\n",
    "arr = [2,4,6,8,11]\n",
    "print(\"Original array:\", arr)\n",
    "print(\"Squared array:\", square(arr))"
   ]
  },
  {
   "cell_type": "markdown",
   "id": "f30aabd1",
   "metadata": {},
   "source": [
    "Finding duplicates in an array"
   ]
  },
  {
   "cell_type": "code",
   "execution_count": null,
   "id": "9e34ba73",
   "metadata": {},
   "outputs": [
    {
     "name": "stdout",
     "output_type": "stream",
     "text": [
      "[1, 2, 3]\n"
     ]
    }
   ],
   "source": [
    "def find_duplicates(arr):\n",
    "    ans = []\n",
    "    \n",
    "    for i in range(len(arr)):\n",
    "        for j in range(i+1, len(arr)):\n",
    "            if arr[i] == arr[j]:\n",
    "                ans.append(arr[i])\n",
    "                break\n",
    "    return ans\n",
    "\n",
    "array = [1,2,3,2,1,4,3]\n",
    "print(find_duplicates(array))"
   ]
  },
  {
   "cell_type": "markdown",
   "id": "72bf775f",
   "metadata": {},
   "source": [
    "Linear search in an array:"
   ]
  },
  {
   "cell_type": "code",
   "execution_count": null,
   "id": "ffc79e59",
   "metadata": {},
   "outputs": [
    {
     "name": "stdout",
     "output_type": "stream",
     "text": [
      "Element Found at 3th position!\n"
     ]
    }
   ],
   "source": [
    "def Linear_Search(arr,val):\n",
    "    for i in range(len(arr)):\n",
    "        if arr[i] == val:\n",
    "            return i+1\n",
    "    return -1\n",
    "\n",
    "array = [1,2,3,2,1,4,3]\n",
    "value = 3\n",
    "\n",
    "if Linear_Search(array,value) != -1:\n",
    "    print(f\"Element Found at {Linear_Search(array,value)}th position!\")\n",
    "else:\n",
    "    print(f\"Element {value} is not found !\")"
   ]
  },
  {
   "cell_type": "markdown",
   "id": "91862dff",
   "metadata": {},
   "source": [
    "##### Exercises\n"
   ]
  },
  {
   "cell_type": "code",
   "execution_count": null,
   "id": "44b19075",
   "metadata": {},
   "outputs": [
    {
     "name": "stdout",
     "output_type": "stream",
     "text": [
      "1. In Feb, how many dollars you spent extra compare to January? - 150\n",
      "2. Find out your total expense in first quarter (first three months) of the year. - 7150\n",
      "3. Find out if you spent exactly 2000 dollars in any month. - None\n",
      "4. June month just finished and your expense is 1980 dollar. Add this item to our monthly expense list\n",
      "\t {'Jan': 2200, 'Feb': 2350, 'Mar': 2600, 'Apr': 2130, 'May': 2190, 'Jun': 1980}\n",
      "5. You returned an item that you bought in a month of April and got a refund of 200$. \n",
      "\tMake a correction to your monthly expense list based on this\n",
      "\t {'Jan': 2200, 'Feb': 2350, 'Mar': 2600, 'Apr': 2330, 'May': 2190, 'Jun': 1980}\n"
     ]
    }
   ],
   "source": [
    "#1\n",
    "dic = {'Jan':2200, 'Feb':2350, 'Mar':2600, \"Apr\":2130, \"May\":2190}\n",
    "val = dic['Feb'] - dic['Jan']\n",
    "print(f\"1. In Feb, how many dollars you spent extra compare to January? - {val}\")\n",
    "\n",
    "#2\n",
    "total = dic['Jan']+dic['Feb']+dic['Mar']\n",
    "print(f\"2. Find out your total expense in first quarter (first three months) of the year. - {total}\")\n",
    "\n",
    "#3\n",
    "rel=\"\"\n",
    "for i,j in dic.items():\n",
    "    if j == 2000:\n",
    "        rel = i\n",
    "        break\n",
    "    else:\n",
    "        rel = None\n",
    "print(f\"3. Find out if you spent exactly 2000 dollars in any month. - {rel}\")\n",
    "\n",
    "#4\n",
    "dic['Jun'] = 1980\n",
    "print(f\"4. June month just finished and your expense is 1980 dollar. Add this item to our monthly expense list\\n\\t {dic}\")\n",
    "\n",
    "#5\n",
    "dic['Apr'] += 200\n",
    "print(f\"5. You returned an item that you bought in a month of April and got a refund of 200$. \\n\\tMake a correction to your monthly expense list based on this\\n\\t {dic}\")"
   ]
  },
  {
   "cell_type": "code",
   "execution_count": null,
   "id": "7dc62bf8",
   "metadata": {},
   "outputs": [],
   "source": []
  }
 ],
 "metadata": {
  "kernelspec": {
   "display_name": "Python 3",
   "language": "python",
   "name": "python3"
  },
  "language_info": {
   "codemirror_mode": {
    "name": "ipython",
    "version": 3
   },
   "file_extension": ".py",
   "mimetype": "text/x-python",
   "name": "python",
   "nbconvert_exporter": "python",
   "pygments_lexer": "ipython3",
   "version": "3.12.4"
  }
 },
 "nbformat": 4,
 "nbformat_minor": 5
}
